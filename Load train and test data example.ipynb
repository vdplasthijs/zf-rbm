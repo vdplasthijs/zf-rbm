{
 "cells": [
  {
   "cell_type": "code",
   "execution_count": 4,
   "metadata": {},
   "outputs": [],
   "source": [
    "import numpy as np\n",
    "import h5py\n",
    "import matplotlib.pyplot as plt\n",
    "import sys, os, pickle\n",
    "import scipy.sparse\n",
    "sys.path.append('/home/thijs/repos/dnp-code/PGM3_correct/source/')\n",
    "from fishualizer_utilities import Zecording  # custom data loading class\n"
   ]
  },
  {
   "cell_type": "code",
   "execution_count": 2,
   "metadata": {},
   "outputs": [],
   "source": [
    "base_path = '/home/thijs/Desktop/zf_rbm_essentials/'  # directory of h5 file with data\n",
    "data_sets = {'20180912-Run01': '20180912_Run01_spontaneous_rbm2.h5'}  # fish name & file name \n",
    "test_segs = '267'  # which train/test split to use => we use 267 in the manuscript. \n",
    "train_inds_path=f'/home/thijs/repos/dnp-code/train_test_inds/20180912-Run01/train_test_inds__test_segs_{test_segs}_nseg10.pkl'   # path & file name of train/test split file\n"
   ]
  },
  {
   "cell_type": "code",
   "execution_count": 5,
   "metadata": {},
   "outputs": [
    {
     "name": "stdout",
     "output_type": "stream",
     "text": [
      "len test inds 1665\n"
     ]
    }
   ],
   "source": [
    "## Load data\n",
    "recordings = {}  # I'm using a dictionary structure here, but you can ignore that \n",
    "for data_set, data_path in data_sets.items():  # load data via fishualizer Zecording object\n",
    "    recordings[data_set] = Zecording(path=base_path + data_path, kwargs={'ignorelags': True,\n",
    "                                              'forceinterpolation': False,\n",
    "                                              'ignoreunknowndata': True,\n",
    "                                              'loadram': True})  \n",
    "rec = recordings[list(data_sets.keys())[0]]\n",
    "print(rec)\n",
    "regions = {'wb': np.arange(294)} # select all zbrain atlas regions. (again, a dictionary structure that you don't need)\n",
    "selected_neurons = {}\n",
    "n_sel_cells = {}\n",
    "train_data = {}\n",
    "test_data = {}\n",
    "full_data = {}\n",
    "\n",
    "dict_tt_inds = pickle.load(open(train_inds_path, 'rb'))  # load dictionary with training indices\n",
    "train_inds = dict_tt_inds['train_inds']  # load training indices\n",
    "test_inds = dict_tt_inds['test_inds']  # load test indices\n",
    "print(f'Length of test inds {len(test_inds)}')\n",
    "for ir in list(regions.keys()):\n",
    "    selected_neurons[ir] = np.unique(scipy.sparse.find(rec.labels[:, regions[ir]])[0])  # find neurons that are connected to regions\n",
    "    assert rec.spikes.shape[0] > rec.spikes.shape[1]  # double check orientation\n",
    "    train_data[ir] = rec.spikes[selected_neurons[ir], :][:, train_inds]  # train data\n",
    "    test_data[ir] = rec.spikes[selected_neurons[ir], :][:, test_inds]  # test data\n",
    "    n_sel_cells[ir] = len(selected_neurons[ir])\n",
    "    full_data[ir] = rec.spikes[selected_neurons[ir], :]  # all data"
   ]
  }
 ],
 "metadata": {
  "kernelspec": {
   "display_name": "Python 3",
   "language": "python",
   "name": "python3"
  },
  "language_info": {
   "codemirror_mode": {
    "name": "ipython",
    "version": 3
   },
   "file_extension": ".py",
   "mimetype": "text/x-python",
   "name": "python",
   "nbconvert_exporter": "python",
   "pygments_lexer": "ipython3",
   "version": "3.7.4"
  }
 },
 "nbformat": 4,
 "nbformat_minor": 2
}
