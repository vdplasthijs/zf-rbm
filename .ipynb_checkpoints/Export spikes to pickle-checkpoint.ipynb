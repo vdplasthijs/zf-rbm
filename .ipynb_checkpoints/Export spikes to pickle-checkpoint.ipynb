{
 "cells": [
  {
   "cell_type": "code",
   "execution_count": 1,
   "metadata": {},
   "outputs": [],
   "source": [
    "import numpy as np\n",
    "import matplotlib.pyplot as plt\n",
    "import h5py\n",
    "import scipy.sparse"
   ]
  },
  {
   "cell_type": "code",
   "execution_count": 2,
   "metadata": {},
   "outputs": [],
   "source": [
    "import os, sys\n",
    "file_path = '/media/thijs/shoal/Zebrafish_data/spontaneous_data_guillaume/'"
   ]
  },
  {
   "cell_type": "code",
   "execution_count": 3,
   "metadata": {},
   "outputs": [],
   "source": [
    "# sys.path.append()"
   ]
  },
  {
   "cell_type": "code",
   "execution_count": 4,
   "metadata": {},
   "outputs": [],
   "source": [
    "list_files = os.listdir(file_path)"
   ]
  },
  {
   "cell_type": "code",
   "execution_count": 9,
   "metadata": {},
   "outputs": [
    {
     "data": {
      "text/plain": [
       "['20180706_Run04_spontaneous_rbm0.h5',\n",
       " '20180706_Run04__spikes_only.npy',\n",
       " '20180911_Run01_rbm1.h5',\n",
       " '20180911_Run01__spikes_only.npy',\n",
       " '20180912_Run01_spontaneous_rbm2.h5',\n",
       " '20180912_Run01__spikes_only.npy',\n",
       " '20180913_Run01_rbm3.h5']"
      ]
     },
     "execution_count": 9,
     "metadata": {},
     "output_type": "execute_result"
    }
   ],
   "source": [
    "list_files"
   ]
  },
  {
   "cell_type": "code",
   "execution_count": 10,
   "metadata": {},
   "outputs": [],
   "source": [
    "i_list = 6"
   ]
  },
  {
   "cell_type": "code",
   "execution_count": 11,
   "metadata": {},
   "outputs": [],
   "source": [
    "h5view = h5py.File(file_path + list_files[i_list], 'r')"
   ]
  },
  {
   "cell_type": "code",
   "execution_count": 12,
   "metadata": {},
   "outputs": [],
   "source": [
    "def get_datasets(data_path, obj):\n",
    "    if isinstance(obj, h5py.Dataset):  # obj is a dataset\n",
    "        tmp_name = data_path.split('/')[-1].lower()\n",
    "        all_keys[tmp_name] = obj.name\n",
    "\n",
    "all_keys = dict()\n",
    "h5view.visititems(get_datasets)"
   ]
  },
  {
   "cell_type": "code",
   "execution_count": 13,
   "metadata": {},
   "outputs": [
    {
     "data": {
      "text/plain": [
       "{'baseline': '/Data/Brain/Analysis/Baseline',\n",
       " 'dff': '/Data/Brain/Analysis/DFF',\n",
       " 'drifts': '/Data/Brain/Analysis/Drifts',\n",
       " 'inferredspikes': '/Data/Brain/Analysis/InferredSpikes',\n",
       " 'thresholdedspikes': '/Data/Brain/Analysis/ThresholdedSpikes',\n",
       " 'coordinates': '/Data/Brain/Coordinates',\n",
       " 'ljpcoordinates': '/Data/Brain/LJPCoordinates',\n",
       " 'labels': '/Data/Brain/Labels',\n",
       " 'segmentation': '/Data/Brain/Pixels/Segmentation',\n",
       " 'temporalmean': '/Data/Brain/Pixels/TemporalMean',\n",
       " 'rawsignal': '/Data/Brain/RawSignal',\n",
       " 'timedelays': '/Data/Brain/TimeDelays',\n",
       " 'times': '/Data/Brain/Times',\n",
       " 'zbraincoordinates': '/Data/Brain/ZBrainCoordinates',\n",
       " 'trace': '/Data/Stimulus/Spontaneous/Trace',\n",
       " 'metadata': '/Metadata'}"
      ]
     },
     "execution_count": 13,
     "metadata": {},
     "output_type": "execute_result"
    }
   ],
   "source": [
    "all_keys"
   ]
  },
  {
   "cell_type": "code",
   "execution_count": 14,
   "metadata": {},
   "outputs": [
    {
     "data": {
      "text/plain": [
       "<HDF5 dataset \"ZBrainCoordinates\": shape (3, 44456), type \"<f4\">"
      ]
     },
     "execution_count": 14,
     "metadata": {},
     "output_type": "execute_result"
    }
   ],
   "source": [
    "key = 'zbraincoordinates'\n",
    "h5view[all_keys[key]]"
   ]
  },
  {
   "cell_type": "code",
   "execution_count": 15,
   "metadata": {},
   "outputs": [
    {
     "data": {
      "text/plain": [
       "<HDF5 dataset \"ThresholdedSpikes\": shape (5000, 44456), type \"|u1\">"
      ]
     },
     "execution_count": 15,
     "metadata": {},
     "output_type": "execute_result"
    }
   ],
   "source": [
    "key = 'thresholdedspikes'\n",
    "h5view[all_keys[key]]"
   ]
  },
  {
   "cell_type": "code",
   "execution_count": 16,
   "metadata": {},
   "outputs": [
    {
     "name": "stdout",
     "output_type": "stream",
     "text": [
      "# (zbrain) wb neurons: 43439\n",
      "# total neurons: 44456\n"
     ]
    }
   ],
   "source": [
    "# zebrafish coordinates coordinates to use (use zbrain space)\n",
    "labels = h5view[all_keys['labels']][:, :].T\n",
    "inds_wb = np.unique(scipy.sparse.find(labels[:, np.arange(294)])[0])\n",
    "print(f'# (zbrain) wb neurons: {len(inds_wb)}')\n",
    "print(f'# total neurons: {h5view[all_keys[\"zbraincoordinates\"]].shape[1]}')\n",
    "# coordinates = rec.zbrain_coords[inds_wb, :]"
   ]
  },
  {
   "cell_type": "code",
   "execution_count": 17,
   "metadata": {},
   "outputs": [
    {
     "data": {
      "text/plain": [
       "(5000, 43439)"
      ]
     },
     "execution_count": 17,
     "metadata": {},
     "output_type": "execute_result"
    }
   ],
   "source": [
    "spikes_data = h5view[all_keys['thresholdedspikes']][:, :]\n",
    "assert spikes_data.shape[1] == h5view[all_keys[\"zbraincoordinates\"]].shape[1]\n",
    "spikes_data = spikes_data[:, inds_wb]\n",
    "spikes_data.shape"
   ]
  },
  {
   "cell_type": "code",
   "execution_count": 18,
   "metadata": {},
   "outputs": [],
   "source": [
    "\n",
    "np.save(arr=spikes_data, allow_pickle=True,\n",
    "        file=file_path + list_files[i_list].split('_')[0] + '_' + list_files[i_list].split('_')[1] + '__spikes_only')"
   ]
  },
  {
   "cell_type": "code",
   "execution_count": 21,
   "metadata": {},
   "outputs": [],
   "source": [
    "fp = file_path + list_files[i_list].split('_')[0] + '_' + list_files[i_list].split('_')[1] + '__spikes_only'"
   ]
  },
  {
   "cell_type": "code",
   "execution_count": 22,
   "metadata": {},
   "outputs": [],
   "source": [
    "tmp = np.load(fp + '.npy')"
   ]
  },
  {
   "cell_type": "code",
   "execution_count": 26,
   "metadata": {},
   "outputs": [
    {
     "data": {
      "text/plain": [
       "array([12916,  3591,  2890, ...,    41,    25,     2], dtype=uint64)"
      ]
     },
     "execution_count": 26,
     "metadata": {},
     "output_type": "execute_result"
    }
   ],
   "source": [
    "tmp.sum(1)"
   ]
  },
  {
   "cell_type": "code",
   "execution_count": 15,
   "metadata": {},
   "outputs": [],
   "source": [
    "tmp = None\n",
    "spikes_data = None"
   ]
  },
  {
   "cell_type": "code",
   "execution_count": 75,
   "metadata": {},
   "outputs": [],
   "source": [
    "h5view.close()"
   ]
  }
 ],
 "metadata": {
  "kernelspec": {
   "display_name": "Python 3",
   "language": "python",
   "name": "python3"
  },
  "language_info": {
   "codemirror_mode": {
    "name": "ipython",
    "version": 3
   },
   "file_extension": ".py",
   "mimetype": "text/x-python",
   "name": "python",
   "nbconvert_exporter": "python",
   "pygments_lexer": "ipython3",
   "version": "3.7.0"
  }
 },
 "nbformat": 4,
 "nbformat_minor": 2
}
