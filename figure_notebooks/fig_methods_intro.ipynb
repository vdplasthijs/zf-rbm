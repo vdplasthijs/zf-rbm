{
 "cells": [
  {
   "cell_type": "code",
   "execution_count": 1,
   "metadata": {},
   "outputs": [
    {
     "name": "stderr",
     "output_type": "stream",
     "text": [
      "/home/thijs/.conda/envs/py37/lib/python3.7/site-packages/statsmodels/tools/_testing.py:19: FutureWarning: pandas.util.testing is deprecated. Use the functions in the public API at pandas.testing instead.\n",
      "  import pandas.util.testing as tm\n",
      "/home/thijs/repos/dnp-code/PGM3_correct/source/numba_utilities.py:1109: NumbaPerformanceWarning: np.dot() is faster on contiguous arrays, called on (array(float32, 2d, F), array(float32, 2d, A))\n",
      "  dmean_v_dw = np.dot(s1.T, V)\n",
      "/home/thijs/repos/dnp-code/PGM3_correct/source/numba_utilities.py:1110: NumbaPerformanceWarning: np.dot() is faster on contiguous arrays, called on (array(float32, 2d, F), array(float32, 2d, A))\n",
      "  dvar_e_dw = np.dot(s2.T, V)\n",
      "/home/thijs/repos/dnp-code/PGM3_correct/source/numba_utilities.py:1111: NumbaPerformanceWarning: np.dot() is faster on contiguous arrays, called on (array(float32, 2d, F), array(float32, 2d, A))\n",
      "  tmp3 = np.dot(s3.T, V)\n",
      "/home/thijs/repos/dnp-code/PGM3_correct/source/numba_utilities.py:946: NumbaPerformanceWarning: np.dot() is faster on contiguous arrays, called on (array(float32, 1d, A), array(float32, 2d, A))\n",
      "  mean_V = np.dot(weights, V) / sum_weights\n"
     ]
    },
    {
     "name": "stdout",
     "output_type": "stream",
     "text": [
      "/home/thijs/repos/dnp-code/rbm_pipeline_functions.py\n"
     ]
    },
    {
     "name": "stderr",
     "output_type": "stream",
     "text": [
      "/home/thijs/.conda/envs/py37/lib/python3.7/site-packages/h5py/_hl/dataset.py:313: H5pyDeprecationWarning: dataset.value has been deprecated. Use dataset[()] instead.\n",
      "  \"Use dataset[()] instead.\", H5pyDeprecationWarning)\n",
      "baseline with shape (5553, 54334) is not recognized, so it cannot be loaded.\n",
      "drifts with shape (5553, 2) is not recognized, so it cannot be loaded.\n",
      "inferredspikes with shape (5553, 54334) is not recognized, so it cannot be loaded.\n",
      "ljpcoordinates with shape (3, 54334) is not recognized, so it cannot be loaded.\n",
      "segmentation with shape (30, 598, 1280) is not recognized, so it cannot be loaded.\n",
      "temporalmean with shape (30, 598, 1280) is not recognized, so it cannot be loaded.\n",
      "rawsignal with shape (5553, 54334) is not recognized, so it cannot be loaded.\n",
      "trace with shape (5553, 1) is not recognized, so it cannot be loaded.\n",
      "metadata with shape (1, 1) is not recognized, so it cannot be loaded.\n"
     ]
    },
    {
     "name": "stdout",
     "output_type": "stream",
     "text": [
      "Recording from /home/thijs/Desktop/zf_rbm_essentials/20180912_Run01_spontaneous_rbm2.h5\n",
      "len test inds 1665\n"
     ]
    }
   ],
   "source": [
    "%run ../setup_notebook.ipynb\n",
    "\n",
    "import plotting_functions as pf\n",
    "import analysis_functions as af\n",
    "import swap_sign_RBM as ssrbm"
   ]
  },
  {
   "cell_type": "code",
   "execution_count": 2,
   "metadata": {},
   "outputs": [
    {
     "ename": "NameError",
     "evalue": "name 'random_neurons' is not defined",
     "output_type": "error",
     "traceback": [
      "\u001b[0;31m---------------------------------------------------------------------------\u001b[0m",
      "\u001b[0;31mNameError\u001b[0m                                 Traceback (most recent call last)",
      "\u001b[0;32m<ipython-input-2-67765b60faa7>\u001b[0m in \u001b[0;36m<module>\u001b[0;34m\u001b[0m\n\u001b[1;32m      8\u001b[0m \u001b[0mtime_slice\u001b[0m \u001b[0;34m=\u001b[0m \u001b[0mslice\u001b[0m\u001b[0;34m(\u001b[0m\u001b[0;36m1450\u001b[0m\u001b[0;34m,\u001b[0m \u001b[0;36m1900\u001b[0m\u001b[0;34m)\u001b[0m\u001b[0;34m\u001b[0m\u001b[0m\n\u001b[1;32m      9\u001b[0m \u001b[0;31m# random_neurons = np.random.choice(a=test_data['wb'].shape[0], size=n_neurons, replace=False)\u001b[0m\u001b[0;34m\u001b[0m\u001b[0;34m\u001b[0m\u001b[0m\n\u001b[0;32m---> 10\u001b[0;31m \u001b[0mraster_data\u001b[0m \u001b[0;34m=\u001b[0m \u001b[0mtrain_data\u001b[0m\u001b[0;34m[\u001b[0m\u001b[0;34m'wb'\u001b[0m\u001b[0;34m]\u001b[0m\u001b[0;34m[\u001b[0m\u001b[0mrandom_neurons\u001b[0m\u001b[0;34m,\u001b[0m \u001b[0mtime_slice\u001b[0m\u001b[0;34m]\u001b[0m\u001b[0;34m\u001b[0m\u001b[0m\n\u001b[0m\u001b[1;32m     11\u001b[0m \u001b[0mn_times\u001b[0m \u001b[0;34m=\u001b[0m \u001b[0mraster_data\u001b[0m\u001b[0;34m.\u001b[0m\u001b[0mshape\u001b[0m\u001b[0;34m[\u001b[0m\u001b[0;36m1\u001b[0m\u001b[0;34m]\u001b[0m\u001b[0;34m\u001b[0m\u001b[0m\n\u001b[1;32m     12\u001b[0m \u001b[0;34m\u001b[0m\u001b[0m\n",
      "\u001b[0;31mNameError\u001b[0m: name 'random_neurons' is not defined"
     ]
    }
   ],
   "source": [
    "## spike raster\n",
    "save_fig = False\n",
    "plot_labels = False\n",
    "plot_ref = True\n",
    "freq = 1 / np.mean(np.diff(rec.time))\n",
    "\n",
    "n_neurons = 500\n",
    "time_slice = slice(1450, 1900)\n",
    "# random_neurons = np.random.choice(a=test_data['wb'].shape[0], size=n_neurons, replace=False)\n",
    "raster_data = train_data['wb'][random_neurons, time_slice]\n",
    "n_times = raster_data.shape[1]\n",
    "\n",
    "fig, ax = plt.subplots(1, 1, figsize=(5, 3))\n",
    "ax.imshow(raster_data, aspect='auto', cmap='Greys', origin='lower')\n",
    "\n",
    "if plot_labels:\n",
    "    ax.set_xticks([x * int(20 * freq) for x in range(4)])\n",
    "    ax.set_xticklabels((np.round(ax.get_xticks() / freq)).astype('int'),\n",
    "                              rotation=0)\n",
    "    ax.set_xlabel('Time (s)')\n",
    "    ax.set_ylabel('Neurons')\n",
    "else:\n",
    "    if plot_ref and i_mu == 2:\n",
    "        ax.set_xticks([int(10* freq), int(40 * freq)])\n",
    "        ax.set_xticklabels(['', ''])\n",
    "    else:\n",
    "        ax.set_xticks([])\n",
    "    ax.set_yticks([])\n",
    "if save_fig:\n",
    "    plt.savefig('/home/thijs/repos/zf-rbm/figures/figure_intro/spike_raster.svg', bbox_to_inches='tight')"
   ]
  },
  {
   "cell_type": "code",
   "execution_count": 10,
   "metadata": {},
   "outputs": [
    {
     "name": "stdout",
     "output_type": "stream",
     "text": [
      "32/60 HU weights are flipped\n",
      "Flipped HUs are: (array([ 0,  2,  5,  7,  9, 10, 12, 14, 15, 18, 19, 20, 22, 24, 27, 31, 32,\n",
      "       33, 34, 35, 37, 38, 41, 42, 43, 46, 47, 48, 51, 53, 54, 57]),)\n"
     ]
    },
    {
     "name": "stderr",
     "output_type": "stream",
     "text": [
      "/home/thijs/repos/dnp-code/PGM3_correct/source/layer.py:1152: RuntimeWarning: invalid value encountered in true_divide\n",
      "  ) / (etg_plus / np.sqrt(self._gamma_plus)))\n"
     ]
    }
   ],
   "source": [
    "# rbm_path = '/media/thijs/hooghoudt/new_sweep_april20/RBM_sweep_reruns/RBM3_20180912-Run01-spontaneous-rbm2_wb_test-segs-267-nseg10_M200_l1-2e-02_duration208093s_timestamp2020-05-16-0844.data'\n",
    "rbm_path = '/media/thijs/hooghoudt/new_sweep_april20/RBM_sweep_combined/RBM3_20180912-Run01-spontaneous-rbm2_wb_test-segs-267-nseg10_M60_l1-2e-01_duration170183s_timestamp2020-04-28-0607.data'\n",
    "hu_assert = [1,  11,  12,  19,  30,  36,  37,  38,  41,  43,  52,  55,  67, 68,  70,  72,  88,  94,  95,  99, 100, 107, 111, 117, 118, 120, 124, 128, 133, 136, 138, 140, 151, 152, 167, 170, 171, 172, 175, 177, 181, 186, 188, 191, 198]  # HUs that sholud be swapped\n",
    "tmp_RBM = pickle.load(open(rbm_path, 'rb'))\n",
    "RBM = ssrbm.swap_sign_RBM(RBM=tmp_RBM, verbose=2, assert_hu_inds=None)#hu_assert)\n",
    "\n",
    "hu_act_test = np.transpose(RBM.mean_hiddens(test_data['wb'].T))\n",
    "ol, _ = af.opt_leaf(hu_act_test)\n",
    "hu_act_test_remap = hu_act_test[ol, :]\n",
    "\n",
    "hu_act_train = np.transpose(RBM.mean_hiddens(train_data['wb'].T))\n",
    "hu_act_train_remap = hu_act_train[ol, :]"
   ]
  },
  {
   "cell_type": "code",
   "execution_count": 14,
   "metadata": {},
   "outputs": [
    {
     "data": {
      "image/png": "[encoded data removed]",
      "text/plain": [
       "<Figure size 360x216 with 3 Axes>"
      ]
     },
     "metadata": {
      "needs_background": "light"
     },
     "output_type": "display_data"
    }
   ],
   "source": [
    "## HU activity\n",
    "## spike raster\n",
    "save_fig = False\n",
    "plot_labels = False\n",
    "plot_ref = True\n",
    "freq = 1 / np.mean(np.diff(rec.time))\n",
    "\n",
    "# hu_inds = [78, 3, 70]\n",
    "hu_inds = [ 10, 22, 34]\n",
    "hu_colours = ['#0b5eeb', '#36b469', '#bd870a']\n",
    "time_slice = slice(1450, 1900)\n",
    "\n",
    "fig, ax = plt.subplots(3, 1, figsize=(5, 3))\n",
    "\n",
    "\n",
    "for i_mu, mu in enumerate(hu_inds):\n",
    "    ax[i_mu].plot(hu_act_train_remap[mu, :][time_slice], linewidth=3, c=hu_colours[i_mu])\n",
    "\n",
    "    if plot_labels:\n",
    "        ax[i_mu].set_xticks([x * int(20 * freq) for x in range(4)])\n",
    "        ax[i_mu].set_xticklabels((np.round(ax[i_mu].get_xticks() / freq)).astype('int'),\n",
    "                                  rotation=0)\n",
    "        ax[i_mu].set_xlabel('Time (s)')\n",
    "        ax[i_mu].set_ylabel('HUs')\n",
    "    else:\n",
    "#         ax[i_mu].set_yticks([])\n",
    "        if plot_ref and i_mu == 2:\n",
    "            ax[i_mu].set_xticks([int(10* freq), int(40 * freq)])\n",
    "            ax[i_mu].set_xticklabels(['', ''])\n",
    "        else:\n",
    "            ax[i_mu].set_xticks([])\n",
    "    ax[i_mu].spines['top'].set_visible(False)\n",
    "    ax[i_mu].spines['right'].set_visible(False)\n",
    "if save_fig:\n",
    "    plt.savefig('/home/thijs/repos/zf-rbm/figures/figure_intro/hu_activity_example.svg', bbox_to_inches='tight')"
   ]
  },
  {
   "cell_type": "code",
   "execution_count": 19,
   "metadata": {},
   "outputs": [
    {
     "data": {
      "image/png": "[encoded data removed]",
      "text/plain": [
       "<Figure size 432x288 with 1 Axes>"
      ]
     },
     "metadata": {
      "needs_background": "light"
     },
     "output_type": "display_data"
    }
   ],
   "source": [
    "plt.hist(RBM.weights.mean(0), bins=100);\n",
    "plt.yscale('log')"
   ]
  },
  {
   "cell_type": "code",
   "execution_count": 22,
   "metadata": {},
   "outputs": [
    {
     "data": {
      "text/plain": [
       "array([ 0.25346446,  2.7778418 ,  2.7700093 ,  2.7776706 ,  0.4067093 ,\n",
       "        2.7785208 ,  2.7764804 ,  2.7850354 ,  2.7785335 , -0.01498086,\n",
       "       -0.31235513,  2.7786634 ,  2.7792227 , -0.07898322,  2.7780569 ,\n",
       "       -0.16016   ,  2.780494  ,  0.20397502,  0.45809177,  2.7793262 ,\n",
       "        2.7775376 ,  2.7797914 ,  0.3588174 ,  0.31682244,  0.2615192 ,\n",
       "        2.7788126 ,  0.4016654 ,  2.7790997 ,  2.7771564 ,  2.7791438 ,\n",
       "        0.2933906 ,  2.7784843 ,  2.7829313 ,  2.7794945 ,  2.7777927 ,\n",
       "       -0.07862755,  2.775866  ,  2.7781825 ,  2.7788165 ,  2.77831   ,\n",
       "        2.7753599 ,  2.7780778 ,  2.7783263 , -0.09123427,  2.7775397 ,\n",
       "        2.7775743 ,  2.778988  ,  2.777949  ,  2.778342  ,  2.778454  ,\n",
       "        2.7790089 ,  0.23800968,  2.7833068 ,  2.7780318 ,  2.7777262 ,\n",
       "        2.7798772 ,  2.7770905 ,  2.7771056 ,  2.7794943 ,  2.7778401 ],\n",
       "      dtype=float32)"
      ]
     },
     "execution_count": 22,
     "metadata": {},
     "output_type": "execute_result"
    }
   ],
   "source": [
    "hu_act_test.mean(1)"
   ]
  },
  {
   "cell_type": "code",
   "execution_count": 11,
   "metadata": {},
   "outputs": [
    {
     "name": "stdout",
     "output_type": "stream",
     "text": [
      "[27760]\n"
     ]
    },
    {
     "data": {
      "image/png": "[encoded data removed]",
      "text/plain": [
       "<Figure size 360x144 with 1 Axes>"
      ]
     },
     "metadata": {
      "needs_background": "light"
     },
     "output_type": "display_data"
    }
   ],
   "source": [
    "## convolution\n",
    "save_fig = True\n",
    "freq = 1 / np.mean(np.diff(rec.time))\n",
    "possible_neurons = np.where(full_data['wb'].sum(1) > 500)[0]\n",
    "# len(possible_neurons)\n",
    "i_neurons = np.random.choice(a=possible_neurons, size=3, replace=False)\n",
    "i_neurons[0] = 34729\n",
    "i_neurons[1] = 46213\n",
    "i_neurons[2] = 27760\n",
    "\n",
    "i_neurons = [27760]\n",
    "print(i_neurons)\n",
    "time_ex = slice(1450, 1650)\n",
    "fig, ax = plt.subplots(1, 1, figsize=(5, 2))\n",
    "ax = [ax]\n",
    "time_bar_length_s = 15\n",
    "time_bar_length_f = int(time_bar_length_s * freq)\n",
    "for i_plot, i_n in enumerate(i_neurons):\n",
    "    full_i_n = inds_wb[i_n]\n",
    "    ax[i_plot].plot(rec.spikes[full_i_n, :][time_ex], c='k', alpha=0.4)\n",
    "    ax[i_plot].plot(rec.df[full_i_n, :][time_ex], c='k')\n",
    "    ax[i_plot].plot()\n",
    "    ax[i_plot].set_xticks([int(50* freq), int(60 * freq)])\n",
    "    ax[i_plot].set_yticks([])\n",
    "    for ax_name in ['top', 'right', 'left']:\n",
    "        ax[i_plot].spines[ax_name].set_visible(False)\n",
    "    \n",
    "ax[0].text(s='$\\Delta$F/F calcium trace', x=0, y=1.35, \n",
    "           fontdict={'weight': 'bold', 'c':'k'})\n",
    "ax[0].text(s='Deconvolved spike trace', x=0, y=1.15, \n",
    "           fontdict={'weight': 'bold', 'c':'k', 'alpha': 0.4})\n",
    "\n",
    "if save_fig:\n",
    "    plt.savefig('/home/thijs/repos/zf-rbm/figures/figure_intro/deconvolved_spikes.svg', bbox_to_inches='tight')"
   ]
  },
  {
   "cell_type": "code",
   "execution_count": 4,
   "metadata": {},
   "outputs": [
    {
     "data": {
      "text/plain": [
       "99"
      ]
     },
     "execution_count": 4,
     "metadata": {},
     "output_type": "execute_result"
    }
   ],
   "source": [
    "\n",
    "int(30 * freq)"
   ]
  }
 ],
 "metadata": {
  "kernelspec": {
   "display_name": "Python 3",
   "language": "python",
   "name": "python3"
  },
  "language_info": {
   "codemirror_mode": {
    "name": "ipython",
    "version": 3
   },
   "file_extension": ".py",
   "mimetype": "text/x-python",
   "name": "python",
   "nbconvert_exporter": "python",
   "pygments_lexer": "ipython3",
   "version": "3.7.0"
  }
 },
 "nbformat": 4,
 "nbformat_minor": 2
}
