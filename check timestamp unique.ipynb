{
 "cells": [
  {
   "cell_type": "code",
   "execution_count": 4,
   "metadata": {},
   "outputs": [],
   "source": [
    "import numpy as np\n",
    "import os"
   ]
  },
  {
   "cell_type": "code",
   "execution_count": 5,
   "metadata": {},
   "outputs": [],
   "source": [
    "jer_sweep_name = '/media/thijs/hooghoudt/new_sweep_april20/RBM_sweep_21_04_2020/'\n",
    "thijs_sweep_name = '/media/thijs/hooghoudt/new_sweep_april20/RBM_sweep_Thijs/'"
   ]
  },
  {
   "cell_type": "code",
   "execution_count": 10,
   "metadata": {},
   "outputs": [],
   "source": [
    "jer_files = os.listdir(jer_sweep_name)\n",
    "thijs_files = os.listdir(thijs_sweep_name)\n",
    "\n",
    "jer_ts = [x.split('_')[-1].lstrip('timestamp').rstrip('.data') for x in jer_files]\n",
    "thijs_ts = [x.split('_')[-1].lstrip('timestamp').rstrip('.data') for x in thijs_files]"
   ]
  },
  {
   "cell_type": "code",
   "execution_count": 11,
   "metadata": {},
   "outputs": [],
   "source": [
    "assert len(jer_ts) == len(np.unique(jer_ts))\n",
    "assert len(thijs_ts) == len(np.unique(thijs_ts))"
   ]
  },
  {
   "cell_type": "code",
   "execution_count": 12,
   "metadata": {},
   "outputs": [],
   "source": [
    "jt_ts = jer_ts + thijs_ts"
   ]
  },
  {
   "cell_type": "code",
   "execution_count": 14,
   "metadata": {},
   "outputs": [
    {
     "data": {
      "text/plain": [
       "True"
      ]
     },
     "execution_count": 14,
     "metadata": {},
     "output_type": "execute_result"
    }
   ],
   "source": [
    "len(jt_ts) == len(np.unique(jt_ts))"
   ]
  }
 ],
 "metadata": {
  "kernelspec": {
   "display_name": "Python 3",
   "language": "python",
   "name": "python3"
  },
  "language_info": {
   "codemirror_mode": {
    "name": "ipython",
    "version": 3
   },
   "file_extension": ".py",
   "mimetype": "text/x-python",
   "name": "python",
   "nbconvert_exporter": "python",
   "pygments_lexer": "ipython3",
   "version": "3.7.0"
  }
 },
 "nbformat": 4,
 "nbformat_minor": 2
}
