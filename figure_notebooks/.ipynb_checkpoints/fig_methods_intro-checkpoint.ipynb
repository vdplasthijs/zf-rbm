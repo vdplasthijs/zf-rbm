{
 "cells": [
  {
   "cell_type": "code",
   "execution_count": 7,
   "metadata": {},
   "outputs": [
    {
     "name": "stdout",
     "output_type": "stream",
     "text": [
      "/home/thijs/repos/dnp-code/rbm_pipeline_functions.py\n"
     ]
    },
    {
     "name": "stderr",
     "output_type": "stream",
     "text": [
      "/home/thijs/.conda/envs/py37/lib/python3.7/site-packages/h5py/_hl/dataset.py:313: H5pyDeprecationWarning: dataset.value has been deprecated. Use dataset[()] instead.\n",
      "  \"Use dataset[()] instead.\", H5pyDeprecationWarning)\n",
      "WARNING:Fishlog:baseline with shape (5553, 54334) is not recognized, so it cannot be loaded.\n",
      "WARNING:Fishlog:drifts with shape (5553, 2) is not recognized, so it cannot be loaded.\n",
      "WARNING:Fishlog:inferredspikes with shape (5553, 54334) is not recognized, so it cannot be loaded.\n",
      "WARNING:Fishlog:ljpcoordinates with shape (3, 54334) is not recognized, so it cannot be loaded.\n",
      "WARNING:Fishlog:segmentation with shape (30, 598, 1280) is not recognized, so it cannot be loaded.\n",
      "WARNING:Fishlog:temporalmean with shape (30, 598, 1280) is not recognized, so it cannot be loaded.\n",
      "WARNING:Fishlog:rawsignal with shape (5553, 54334) is not recognized, so it cannot be loaded.\n",
      "WARNING:Fishlog:trace with shape (5553, 1) is not recognized, so it cannot be loaded.\n",
      "WARNING:Fishlog:metadata with shape (1, 1) is not recognized, so it cannot be loaded.\n"
     ]
    },
    {
     "name": "stdout",
     "output_type": "stream",
     "text": [
      "Recording from /home/thijs/Desktop/zf_rbm_essentials/20180912_Run01_spontaneous_rbm2.h5\n",
      "len test inds 1665\n"
     ]
    }
   ],
   "source": [
    "%run ../setup_notebook.ipynb"
   ]
  },
  {
   "cell_type": "code",
   "execution_count": 47,
   "metadata": {},
   "outputs": [
    {
     "data": {
      "image/png": "[encoded data removed]",
      "text/plain": [
       "<Figure size 360x288 with 1 Axes>"
      ]
     },
     "metadata": {},
     "output_type": "display_data"
    }
   ],
   "source": [
    "## spike raster\n",
    "save_fig = True\n",
    "plot_labels = False\n",
    "freq = 1 / np.mean(np.diff(rec.time))\n",
    "\n",
    "n_neurons = 500\n",
    "random_neurons = np.random.choice(a=test_data['wb'].shape[0], size=n_neurons, replace=False)\n",
    "raster_data = train_data['wb'][random_neurons, 1450:1900]\n",
    "n_times = raster_data.shape[1]\n",
    "\n",
    "fig, ax = plt.subplots(1, 1, figsize=(5, 4))\n",
    "ax.imshow(raster_data, aspect='auto', cmap='Greys', origin='lower')\n",
    "\n",
    "if plot_labels:\n",
    "    ax.set_xticks([x * int(20 * freq) for x in range(4)])\n",
    "    ax.set_xticklabels((np.round(ax.get_xticks() / freq)).astype('int'),\n",
    "                              rotation=0)\n",
    "    ax.set_xlabel('Time (s)')\n",
    "    ax.set_ylabel('Neurons')\n",
    "else:\n",
    "    ax.set_xticks([])\n",
    "    ax.set_yticks([])\n",
    "if save_fig:\n",
    "    plt.savefig('/home/thijs/repos/zf-rbm/figures/figure_intro/spike_raster.svg', bbox_to_inches='tight')"
   ]
  },
  {
   "cell_type": "code",
   "execution_count": 94,
   "metadata": {},
   "outputs": [
    {
     "name": "stdout",
     "output_type": "stream",
     "text": [
      "[27760]\n"
     ]
    },
    {
     "data": {
      "image/png": "[encoded data removed]",
      "text/plain": [
       "<Figure size 360x144 with 1 Axes>"
      ]
     },
     "metadata": {},
     "output_type": "display_data"
    }
   ],
   "source": [
    "## convolution\n",
    "save_fig = True\n",
    "possible_neurons = np.where(full_data['wb'].sum(1) > 500)[0]\n",
    "# len(possible_neurons)\n",
    "i_neurons = np.random.choice(a=possible_neurons, size=3, replace=False)\n",
    "i_neurons[0] = 34729\n",
    "i_neurons[1] = 46213\n",
    "i_neurons[2] = 27760\n",
    "\n",
    "i_neurons = [27760]\n",
    "print(i_neurons)\n",
    "time_ex = slice(1450, 1650)\n",
    "fig, ax = plt.subplots(1, 1, figsize=(5, 2))\n",
    "ax = [ax]\n",
    "for i_plot, i_n in enumerate(i_neurons):\n",
    "    full_i_n = inds_wb[i_n]\n",
    "    ax[i_plot].plot(rec.spikes[full_i_n, :][time_ex], c='k', alpha=0.4)\n",
    "    ax[i_plot].plot(rec.df[full_i_n, :][time_ex], c='k')\n",
    "    ax[i_plot].set_xticks([])\n",
    "    ax[i_plot].set_yticks([])\n",
    "    for ax_name in ['top', 'right', 'left', 'bottom']:\n",
    "        ax[i_plot].spines[ax_name].set_visible(False)\n",
    "    \n",
    "ax[0].text(s='$\\Delta$F/F calcium trace', x=0, y=1.35, \n",
    "           fontdict={'weight': 'bold', 'c':'k'})\n",
    "ax[0].text(s='Deconvolved spike trace', x=0, y=1.15, \n",
    "           fontdict={'weight': 'bold', 'c':'k', 'alpha': 0.4})\n",
    "\n",
    "if save_fig:\n",
    "    plt.savefig('/home/thijs/repos/zf-rbm/figures/figure_intro/deconvolved_spikes.svg', bbox_to_inches='tight')"
   ]
  },
  {
   "cell_type": "code",
   "execution_count": 49,
   "metadata": {},
   "outputs": [],
   "source": [
    "## HU activity"
   ]
  },
  {
   "cell_type": "code",
   "execution_count": 51,
   "metadata": {},
   "outputs": [
    {
     "data": {
      "text/plain": [
       "(52518, 5553)"
      ]
     },
     "execution_count": 51,
     "metadata": {},
     "output_type": "execute_result"
    }
   ],
   "source": [
    "full_data['wb'].shape"
   ]
  }
 ],
 "metadata": {
  "kernelspec": {
   "display_name": "Python 3",
   "language": "python",
   "name": "python3"
  },
  "language_info": {
   "codemirror_mode": {
    "name": "ipython",
    "version": 3
   },
   "file_extension": ".py",
   "mimetype": "text/x-python",
   "name": "python",
   "nbconvert_exporter": "python",
   "pygments_lexer": "ipython3",
   "version": "3.7.0"
  }
 },
 "nbformat": 4,
 "nbformat_minor": 2
}
