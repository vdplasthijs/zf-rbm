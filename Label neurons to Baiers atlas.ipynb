{
 "cells": [
  {
   "cell_type": "code",
   "execution_count": 1,
   "metadata": {},
   "outputs": [
    {
     "name": "stdout",
     "output_type": "stream",
     "text": [
      "/home/thijs/repos/zf-rbm\n"
     ]
    }
   ],
   "source": [
    "import numpy as np\n",
    "import numpy.matlib\n",
    "import matplotlib\n",
    "%matplotlib inline\n",
    "import h5py\n",
    "import matplotlib.pyplot as plt\n",
    "import sys,os\n",
    "import importlib\n",
    "import sklearn\n",
    "import sklearn.decomposition\n",
    "import sklearn.preprocessing\n",
    "import datetime\n",
    "import seaborn as sns\n",
    "import pandas as pd\n",
    "import scipy\n",
    "import scipy.spatial\n",
    "import scipy.fftpack\n",
    "import scipy.io\n",
    "from tqdm import tqdm\n",
    "import pickle\n",
    "sys.path.append('/home/thijs/repos/dnp-code/')\n",
    "# import rbm_pipeline_functions as pf\n",
    "curr_dir = os.getcwd()\n",
    "# os.chdir('PGM7/')\n",
    "# import rbm7 as rbm\n",
    "# import utilities7 as utilities\n",
    "# import rbm7_trackprogress\n",
    "# import rbm7_trackprogress_wb\n",
    "# os.chdir(curr_dir)\n",
    "os.chdir('fishualizer_functions/')\n",
    "from utilities import Zecording\n",
    "# from fishualizer_utilities import Zecording\n",
    "# import pipeline_functions as fish_pf\n",
    "os.chdir(curr_dir)\n",
    "print(os.getcwd())"
   ]
  },
  {
   "cell_type": "code",
   "execution_count": 2,
   "metadata": {},
   "outputs": [],
   "source": [
    "## File paths for zebrafish data\n",
    "\n",
    "base_path = '/media/thijs/hooghoudt/Zebrafish_data/spontaneous_data_guillaume_T22/'  # folder where data sets are\n",
    "# data_sets = {'20180912-Run01': 'media/thijs/shoal/Zebrafish_data/spontaneous_data_guillaume/20180912_Run01_spontaneous_rbm2.h5'}  # dictionary with key: dataset name\n",
    "# data_sets = {'20180706_Run04': 'media/thijs/shoal/Zebrafish_data/spontaneous_data_guillaume/20180706_Run04_spontaneous_rbm0.h5'}\n",
    "# data_sets = {'20180911_Run01': 'media/thijs/shoal/Zebrafish_data/spontaneous_data_guillaume/20180911_Run01_rbm1.h5'}\n",
    "# data_sets = {'20180913_Run01': 'media/thijs/shoal/Zebrafish_data/spontaneous_data_guillaume/20180913_Run01_rbm3.h5'}\n",
    "\n",
    "data_sets = {'20191126_Run02': '20191126_Run02_spontaneous17_Tset=22.h5'}\n",
    "\n",
    "\n",
    "## Plot options\n",
    "f_size = 14\n",
    "plt.rcParams['font.size'] = f_size\n",
    "plt.rcParams['font.family'] = 'sans-serif'\n",
    "plt.rcParams['font.sans-serif'] = 'Dejavu Sans'\n",
    "plt.rcParams['font.style'] = 'normal'\n",
    "plt.rcParams['lines.linewidth'] = 3\n",
    "plt.rcParams['figure.figsize'] = (10, 10)\n",
    "dr_colors = {'glm': '#008B8B', 'pca': '#808000', 'rbm': '#800080', 'fa': 'red', 'ica':'#157bf9'}\n",
    "color_cycle = plt.rcParams['axes.prop_cycle'].by_key()['color'] # default color cycle\n",
    "\n",
    "\n",
    "dr_legend = {'pca': 'PCA', 'rbm': 'RBM', 'fa': 'FA', 'ica': 'ICA', 'glm': 'GLM'}"
   ]
  },
  {
   "cell_type": "code",
   "execution_count": 3,
   "metadata": {},
   "outputs": [],
   "source": [
    "\n",
    "## Load Baiers atlas\n",
    "\n",
    "mat = scipy.io.loadmat('atlas_data/Combined_regions_MPIN_to_zbrain_labeled_matfile.mat')\n",
    "baier_ref = mat['imageStack']"
   ]
  },
  {
   "cell_type": "code",
   "execution_count": 4,
   "metadata": {
    "scrolled": false
   },
   "outputs": [
    {
     "name": "stderr",
     "output_type": "stream",
     "text": [
      "/home/thijs/.conda/envs/py37/lib/python3.7/site-packages/h5py/_hl/dataset.py:313: H5pyDeprecationWarning: dataset.value has been deprecated. Use dataset[()] instead.\n",
      "  \"Use dataset[()] instead.\", H5pyDeprecationWarning)\n",
      "baseline with shape (12000, 15496) is not recognized, so it cannot be loaded.\n",
      "drifts with shape (12000, 2) is not recognized, so it cannot be loaded.\n",
      "inferredspikes with shape (12000, 15496) is not recognized, so it cannot be loaded.\n",
      "ljpcoordinates with shape (3, 15496) is not recognized, so it cannot be loaded.\n",
      "segmentation with shape (10, 534, 960) is not recognized, so it cannot be loaded.\n",
      "temporalmean with shape (10, 534, 960) is not recognized, so it cannot be loaded.\n",
      "rawsignal with shape (12000, 15496) is not recognized, so it cannot be loaded.\n",
      "trace with shape (12000, 1) is not recognized, so it cannot be loaded.\n",
      "metadata with shape (1, 1) is not recognized, so it cannot be loaded.\n"
     ]
    },
    {
     "name": "stdout",
     "output_type": "stream",
     "text": [
      "Recording from /media/thijs/hooghoudt/Zebrafish_data/spontaneous_data_guillaume_T22/20191126_Run02_spontaneous17_Tset=22.h5\n"
     ]
    }
   ],
   "source": [
    "## Load data, using Zecording class \n",
    "\n",
    "recordings = {}  # dictionary that will save the data sets\n",
    "\n",
    "curr_dir = os.getcwd()\n",
    "os.chdir('/home/thijs/repos/fishualizer')\n",
    "for data_set, data_path in data_sets.items():\n",
    "    recordings[data_set] = Zecording(path=base_path + data_path, kwargs={'ignorelags': True,\n",
    "                                              'forceinterpolation': False,\n",
    "                                              'ignoreunknowndata': True,# 'parent': self,\n",
    "                                              'loadram': True})  # load data\n",
    "# rec = recordings['20180912-Run01']\n",
    "# rec = recordings['20180706_Run04']\n",
    "# rec = recordings['20180911_Run01']\n",
    "rec = recordings[list(recordings.keys())[0]]\n",
    "print(rec)\n",
    "\n",
    "os.chdir(curr_dir)"
   ]
  },
  {
   "cell_type": "code",
   "execution_count": 5,
   "metadata": {},
   "outputs": [
    {
     "name": "stdout",
     "output_type": "stream",
     "text": [
      "# (zbrain) wb neurons: 14984\n",
      "# total neurons: 15496\n"
     ]
    }
   ],
   "source": [
    "# zebrafish coordinates coordinates to use (use zbrain space)\n",
    "inds_wb = np.unique(scipy.sparse.find(rec.labels[:, np.arange(294)])[0])\n",
    "# coordinates = rec.zbrain_coords  \n",
    "print(f'# (zbrain) wb neurons: {len(inds_wb)}')\n",
    "print(f'# total neurons: {rec.zbrain_coords.shape[0]}')\n",
    "coordinates = rec.zbrain_coords[inds_wb, :]"
   ]
  },
  {
   "cell_type": "code",
   "execution_count": 6,
   "metadata": {},
   "outputs": [],
   "source": [
    "## Resolution from ZBrainAtlas doc in um\n",
    "resolution = np.array([0.798, 0.798, 2])"
   ]
  },
  {
   "cell_type": "code",
   "execution_count": 7,
   "metadata": {},
   "outputs": [],
   "source": [
    "## Find closest voxel per coordinate\n",
    "# Assuming(!) that coordinates is already in the same space as the\n",
    "# ZBrainAtlas, one can find the closest voxel center per coordinate (i.e.\n",
    "# the voxel that contains the coordinate).\n",
    "# Transform coordinates to their (element-wise) nearest point in grid:\n",
    "grid_coordinates = np.round(coordinates * 1000 / resolution);\n",
    "# Calculates the data coordinates expressed in the ZBrainAtlas grid (go to um and apply resolution transformation)\n",
    "grid_coordinates = grid_coordinates.astype('int')"
   ]
  },
  {
   "cell_type": "code",
   "execution_count": 8,
   "metadata": {},
   "outputs": [
    {
     "name": "stdout",
     "output_type": "stream",
     "text": [
      "(621, 1406, 138) [ 87 142  75] [ 516 1016  122]\n"
     ]
    }
   ],
   "source": [
    "## Flip coordinates (determined after visual inspection 11/06/2018)\n",
    "# grid_coordinates = grid_coordinates[:, [1, 0, 2]] # reorientate x and y axis\n",
    "print(baier_ref.shape, grid_coordinates.min(0), grid_coordinates.max(0))  # not needed, check max dimensions:"
   ]
  },
  {
   "cell_type": "code",
   "execution_count": 9,
   "metadata": {},
   "outputs": [],
   "source": [
    "# define number of dimensions\n",
    "n_x = baier_ref.shape[0]\n",
    "n_y = baier_ref.shape[1]\n",
    "n_z = baier_ref.shape[2]"
   ]
  },
  {
   "cell_type": "code",
   "execution_count": 10,
   "metadata": {},
   "outputs": [],
   "source": [
    "# swap axes (determined by visual inspection in fishualizer)\n",
    "grid_coordinates[:, 0] = n_x - grid_coordinates[:, 0] # swap new x coordinates left to right (check in fishualizer!, or x coordinates of labels left hab and right hab in zbrain labelling)\n",
    "grid_coordinates[:, 2] = n_z - grid_coordinates[:, 2] # swap new z coordinates (because baier ref is essentially upside odwn)"
   ]
  },
  {
   "cell_type": "code",
   "execution_count": 11,
   "metadata": {},
   "outputs": [],
   "source": [
    "## Check visually if it makes sense; select 1 layer (of 138 total)\n",
    "z_layer = 0"
   ]
  },
  {
   "cell_type": "code",
   "execution_count": 52,
   "metadata": {},
   "outputs": [
    {
     "name": "stdout",
     "output_type": "stream",
     "text": [
      "Layer = 41\n"
     ]
    },
    {
     "data": {
      "image/png": "[encoded data removed]",
      "text/plain": [
       "<Figure size 720x720 with 1 Axes>"
      ]
     },
     "metadata": {
      "needs_background": "light"
     },
     "output_type": "display_data"
    }
   ],
   "source": [
    "z_layer += 1\n",
    "# z_layer = 50\n",
    "ind_z_grid = np.where(grid_coordinates[:, 2] == z_layer)[0]\n",
    "\n",
    "plot_baier = np.squeeze(baier_ref[:, :, z_layer])\n",
    "plt.imshow(plot_baier.T, origin='lower')\n",
    "\n",
    "plot_grid = grid_coordinates[ind_z_grid, :]\n",
    "plt.scatter(plot_grid[:, 0], plot_grid[:, 1], s=6, color='red')\n",
    "print(f'Layer = {z_layer}')"
   ]
  },
  {
   "cell_type": "code",
   "execution_count": 53,
   "metadata": {},
   "outputs": [],
   "source": [
    "## Label neurons according to Baier atlas\n",
    "\n",
    "grid_labels = np.zeros(grid_coordinates.shape[0])  # zero = not labelled\n",
    "for n in range(grid_coordinates.shape[0]):\n",
    "    if grid_coordinates[n, 2] < 138:  # some neurons exceed zbrain space limit, do not label (i.e. skip)\n",
    "        # label by inserting grid coordinates in baier atlas to obtain unique label at that point\n",
    "        grid_labels[n] = baier_ref[grid_coordinates[n, 0], grid_coordinates[n, 1], grid_coordinates[n, 2]]\n",
    "        "
   ]
  },
  {
   "cell_type": "code",
   "execution_count": 54,
   "metadata": {},
   "outputs": [
    {
     "name": "stdout",
     "output_type": "stream",
     "text": [
      "Fraction right 0.5192872397223706\n"
     ]
    }
   ],
   "source": [
    "## Determine whether left or right\n",
    "\n",
    "right_bool = np.zeros(grid_coordinates.shape[0])\n",
    "## check in fishualizer: x: L -> R\n",
    "x_med = int(0.5 * baier_ref.shape[0])  # median\n",
    "right_bool[grid_coordinates[:, 0] > x_med] = 1  # greater than median = RIGHT\n",
    "# plt.plot(right_bool, grid_coordinates[:, 0], '.')\n",
    "print(f'Fraction right {np.sum(right_bool) / len(right_bool)}')"
   ]
  },
  {
   "cell_type": "code",
   "execution_count": 55,
   "metadata": {},
   "outputs": [
    {
     "name": "stdout",
     "output_type": "stream",
     "text": [
      "Percentage labelled 0.843\n"
     ]
    },
    {
     "data": {
      "text/plain": [
       "array([ 0.,  5.,  6.,  9., 10., 16., 19., 20., 21., 22., 23., 24., 25.,\n",
       "       26., 27., 28., 29., 30., 34., 37., 38., 41., 42., 47., 48., 49.,\n",
       "       50., 57., 58., 59., 60., 61., 62., 63., 64., 69., 70., 71., 72.])"
      ]
     },
     "execution_count": 55,
     "metadata": {},
     "output_type": "execute_result"
    }
   ],
   "source": [
    "grid_rl_labels = 2 * grid_labels - 1 \n",
    "grid_rl_labels[grid_rl_labels < 0] = 0\n",
    "grid_rl_labels[grid_rl_labels != 0] += right_bool[grid_rl_labels != 0]\n",
    "# plt.plot(grid_labels, grid_rl_labels, '.')\n",
    "print('Percentage labelled', np.round(np.sum(grid_labels != 0) / len(grid_labels), 3))\n",
    "np.unique(grid_rl_labels)  # labelled regions"
   ]
  },
  {
   "cell_type": "code",
   "execution_count": 56,
   "metadata": {},
   "outputs": [
    {
     "name": "stdout",
     "output_type": "stream",
     "text": [
      "/baier_region-labels__20191126_Run02__labelled-2020-10-15.npy\n",
      "/baier_rl-region-labels__20191126_Run02__labelled-2020-10-15.npy\n"
     ]
    }
   ],
   "source": [
    "## create file names for saving \n",
    "\n",
    "save_path_repo = '/home/thijs/repos/zf-rbm/baier_atlas_labels'\n",
    "save_path_data = '/media/thijs/hooghoudt/Zebrafish_data/spontaneous_data_guillaume_T22/baier_labels'\n",
    "file_name = f'/baier_region-labels__{data_set}__labelled-{datetime.date.today()}.npy'\n",
    "print(file_name)\n",
    "\n",
    "file_name_rl = f'/baier_rl-region-labels__{data_set}__labelled-{datetime.date.today()}.npy'\n",
    "print(file_name_rl)"
   ]
  },
  {
   "cell_type": "code",
   "execution_count": 57,
   "metadata": {},
   "outputs": [],
   "source": [
    "## save\n",
    "\n",
    "np.save(arr=grid_labels, file=save_path_repo + file_name)\n",
    "np.save(arr=grid_rl_labels, file=save_path_repo + file_name_rl)\n",
    "\n",
    "np.save(arr=grid_labels, file=save_path_data + file_name)\n",
    "np.save(arr=grid_rl_labels, file=save_path_data + file_name_rl)"
   ]
  },
  {
   "cell_type": "code",
   "execution_count": null,
   "metadata": {},
   "outputs": [],
   "source": []
  }
 ],
 "metadata": {
  "kernelspec": {
   "display_name": "Python 3",
   "language": "python",
   "name": "python3"
  },
  "language_info": {
   "codemirror_mode": {
    "name": "ipython",
    "version": 3
   },
   "file_extension": ".py",
   "mimetype": "text/x-python",
   "name": "python",
   "nbconvert_exporter": "python",
   "pygments_lexer": "ipython3",
   "version": "3.7.0"
  }
 },
 "nbformat": 4,
 "nbformat_minor": 2
}
