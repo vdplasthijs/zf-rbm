{
 "cells": [
  {
   "cell_type": "code",
   "execution_count": 1,
   "metadata": {},
   "outputs": [],
   "source": [
    "import numpy as np\n",
    "import matplotlib.pyplot as plt\n",
    "import h5py\n",
    "import scipy.sparse\n",
    "import sys, os"
   ]
  },
  {
   "cell_type": "code",
   "execution_count": 2,
   "metadata": {},
   "outputs": [
    {
     "data": {
      "text/plain": [
       "['20180911_Run01_rbm1.h5',\n",
       " '20180706_Run04_spontaneous_rbm0.h5',\n",
       " '20180912_Run01_spontaneous_rbm2.h5',\n",
       " '20180913_Run01_rbm3.h5']"
      ]
     },
     "execution_count": 2,
     "metadata": {},
     "output_type": "execute_result"
    }
   ],
   "source": [
    "\n",
    "file_path = '/media/thijs/hooghoudt/Zebrafish_data/spontaneous_data_guillaume/'\n",
    "list_files = [x for x in os.listdir(file_path) if x[-3:] == '.h5']\n",
    "list_files"
   ]
  },
  {
   "cell_type": "code",
   "execution_count": 3,
   "metadata": {},
   "outputs": [],
   "source": [
    "i_list = 3\n",
    "h5view = h5py.File(file_path + list_files[i_list], 'r')"
   ]
  },
  {
   "cell_type": "code",
   "execution_count": 4,
   "metadata": {},
   "outputs": [],
   "source": [
    "def get_datasets(data_path, obj):\n",
    "    if isinstance(obj, h5py.Dataset):  # obj is a dataset\n",
    "        tmp_name = data_path.split('/')[-1].lower()\n",
    "        all_keys[tmp_name] = obj.name\n",
    "\n",
    "all_keys = dict()\n",
    "h5view.visititems(get_datasets)"
   ]
  },
  {
   "cell_type": "code",
   "execution_count": 5,
   "metadata": {},
   "outputs": [
    {
     "data": {
      "text/plain": [
       "{'baseline': '/Data/Brain/Analysis/Baseline',\n",
       " 'dff': '/Data/Brain/Analysis/DFF',\n",
       " 'drifts': '/Data/Brain/Analysis/Drifts',\n",
       " 'inferredspikes': '/Data/Brain/Analysis/InferredSpikes',\n",
       " 'thresholdedspikes': '/Data/Brain/Analysis/ThresholdedSpikes',\n",
       " 'coordinates': '/Data/Brain/Coordinates',\n",
       " 'ljpcoordinates': '/Data/Brain/LJPCoordinates',\n",
       " 'labels': '/Data/Brain/Labels',\n",
       " 'segmentation': '/Data/Brain/Pixels/Segmentation',\n",
       " 'temporalmean': '/Data/Brain/Pixels/TemporalMean',\n",
       " 'rawsignal': '/Data/Brain/RawSignal',\n",
       " 'timedelays': '/Data/Brain/TimeDelays',\n",
       " 'times': '/Data/Brain/Times',\n",
       " 'zbraincoordinates': '/Data/Brain/ZBrainCoordinates',\n",
       " 'trace': '/Data/Stimulus/Spontaneous/Trace',\n",
       " 'metadata': '/Metadata'}"
      ]
     },
     "execution_count": 5,
     "metadata": {},
     "output_type": "execute_result"
    }
   ],
   "source": [
    "all_keys"
   ]
  },
  {
   "cell_type": "code",
   "execution_count": 6,
   "metadata": {},
   "outputs": [
    {
     "data": {
      "text/plain": [
       "<HDF5 dataset \"ThresholdedSpikes\": shape (5000, 44456), type \"|u1\">"
      ]
     },
     "execution_count": 6,
     "metadata": {},
     "output_type": "execute_result"
    }
   ],
   "source": [
    "key = 'thresholdedspikes'\n",
    "h5view[all_keys[key]]"
   ]
  },
  {
   "cell_type": "code",
   "execution_count": 7,
   "metadata": {},
   "outputs": [
    {
     "name": "stdout",
     "output_type": "stream",
     "text": [
      "# (zbrain) wb neurons: 43439\n",
      "# total neurons: 44456\n"
     ]
    }
   ],
   "source": [
    "# zebrafish coordinates coordinates to use (use zbrain space)\n",
    "labels = h5view[all_keys['labels']][:, :].T\n",
    "inds_wb = np.unique(scipy.sparse.find(labels[:, np.arange(294)])[0])\n",
    "print(f'# (zbrain) wb neurons: {len(inds_wb)}')\n",
    "print(f'# total neurons: {h5view[all_keys[\"zbraincoordinates\"]].shape[1]}')\n",
    "# coordinates = rec.zbrain_coords[inds_wb, :]"
   ]
  },
  {
   "cell_type": "code",
   "execution_count": 8,
   "metadata": {},
   "outputs": [
    {
     "data": {
      "text/plain": [
       "(5000, 43439)"
      ]
     },
     "execution_count": 8,
     "metadata": {},
     "output_type": "execute_result"
    }
   ],
   "source": [
    "spikes_data = h5view[all_keys['thresholdedspikes']][:, :]\n",
    "assert spikes_data.shape[1] == h5view[all_keys[\"zbraincoordinates\"]].shape[1]\n",
    "spikes_data = spikes_data[:, inds_wb]\n",
    "spikes_data.shape"
   ]
  },
  {
   "cell_type": "code",
   "execution_count": 9,
   "metadata": {},
   "outputs": [],
   "source": [
    "spike_file_name = list_files[i_list][:-3] + '__wb_spikes_only.npy'\n",
    "np.save(arr=spikes_data, allow_pickle=True,\n",
    "        file=file_path + spike_file_name)\n",
    "h5view.close()"
   ]
  },
  {
   "cell_type": "code",
   "execution_count": 16,
   "metadata": {},
   "outputs": [],
   "source": [
    "# tmp = np.load(file_path + spike_file_name)\n",
    "# tmp.shape"
   ]
  },
  {
   "cell_type": "code",
   "execution_count": 10,
   "metadata": {},
   "outputs": [],
   "source": [
    "tmp = None\n",
    "spikes_data = None"
   ]
  }
 ],
 "metadata": {
  "kernelspec": {
   "display_name": "Python 3",
   "language": "python",
   "name": "python3"
  },
  "language_info": {
   "codemirror_mode": {
    "name": "ipython",
    "version": 3
   },
   "file_extension": ".py",
   "mimetype": "text/x-python",
   "name": "python",
   "nbconvert_exporter": "python",
   "pygments_lexer": "ipython3",
   "version": "3.7.0"
  }
 },
 "nbformat": 4,
 "nbformat_minor": 2
}
