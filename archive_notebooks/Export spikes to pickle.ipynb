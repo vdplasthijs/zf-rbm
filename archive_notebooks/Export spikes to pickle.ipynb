{
 "cells": [
  {
   "cell_type": "code",
   "execution_count": 2,
   "metadata": {},
   "outputs": [],
   "source": [
    "import numpy as np\n",
    "import matplotlib.pyplot as plt\n",
    "import h5py\n",
    "import scipy.sparse\n",
    "import sys, os\n",
    "from tqdm import tqdm"
   ]
  },
  {
   "cell_type": "code",
   "execution_count": 3,
   "metadata": {},
   "outputs": [
    {
     "data": {
      "text/plain": [
       "['20190108_Run05_spontaneous6_Tset=22.h5',\n",
       " '20190425_Run04_spontaneous13_Tset=22.h5',\n",
       " '20190102_Run01_spontaneous5_Tset=22.h5',\n",
       " '20190503_Run04_spontaneous15_Tset=22.h5',\n",
       " '20181206_Run05_spontaneous2_Tset=22.h5',\n",
       " '20191126_Run02_spontaneous17_Tset=22.h5',\n",
       " '20190502_Run04_spontaneous14_Tset=22.h5',\n",
       " '20190130_Run03_spontaneous10_Tset=22.h5',\n",
       " '20190424_Run01_spontaneous11_Tset=22.h5',\n",
       " '20181206_Run03_spontaneous1_Tset=22.h5',\n",
       " '20190109_Run04_spontaneous7_Tset=22.h5',\n",
       " '20181218_Run02_spontaneous3_Tset=22.h5']"
      ]
     },
     "execution_count": 3,
     "metadata": {},
     "output_type": "execute_result"
    }
   ],
   "source": [
    "\n",
    "file_path = '/media/thijs/hooghoudt/Zebrafish_data/spontaneous_data_guillaume_T22/'\n",
    "list_files = [x for x in os.listdir(file_path) if x[-3:] == '.h5']\n",
    "n_ds = len(list_files)\n",
    "\n",
    "list_files"
   ]
  },
  {
   "cell_type": "code",
   "execution_count": 4,
   "metadata": {},
   "outputs": [],
   "source": [
    "def get_datasets(data_path, obj):\n",
    "    if isinstance(obj, h5py.Dataset):  # obj is a dataset\n",
    "        tmp_name = data_path.split('/')[-1].lower()\n",
    "        all_keys[tmp_name] = obj.name"
   ]
  },
  {
   "cell_type": "code",
   "execution_count": 7,
   "metadata": {},
   "outputs": [
    {
     "name": "stderr",
     "output_type": "stream",
     "text": [
      "\r\n",
      "  0%|          | 0/12 [00:00<?, ?it/s]"
     ]
    },
    {
     "name": "stdout",
     "output_type": "stream",
     "text": [
      "# (zbrain) wb neurons: 24939\n",
      "# total neurons: 25622\n"
     ]
    },
    {
     "name": "stderr",
     "output_type": "stream",
     "text": [
      "\r\n",
      "  8%|▊         | 1/12 [00:05<01:02,  5.71s/it]"
     ]
    },
    {
     "name": "stdout",
     "output_type": "stream",
     "text": [
      "# (zbrain) wb neurons: 10582\n",
      "# total neurons: 10658\n"
     ]
    },
    {
     "name": "stderr",
     "output_type": "stream",
     "text": [
      "\r\n",
      " 17%|█▋        | 2/12 [00:08<00:47,  4.75s/it]"
     ]
    },
    {
     "name": "stdout",
     "output_type": "stream",
     "text": [
      "# (zbrain) wb neurons: 25259\n",
      "# total neurons: 26083\n"
     ]
    },
    {
     "name": "stderr",
     "output_type": "stream",
     "text": [
      "\r\n",
      " 25%|██▌       | 3/12 [00:10<00:36,  4.03s/it]"
     ]
    },
    {
     "name": "stdout",
     "output_type": "stream",
     "text": [
      "# (zbrain) wb neurons: 10469\n",
      "# total neurons: 10664\n"
     ]
    },
    {
     "name": "stderr",
     "output_type": "stream",
     "text": [
      " 42%|████▏     | 5/12 [00:13<00:19,  2.82s/it]"
     ]
    },
    {
     "name": "stdout",
     "output_type": "stream",
     "text": [
      "# (zbrain) wb neurons: 23446\n",
      "# total neurons: 23743\n",
      "# (zbrain) wb neurons: 14984\n",
      "# total neurons: 15496\n"
     ]
    },
    {
     "name": "stderr",
     "output_type": "stream",
     "text": [
      "\r\n",
      " 50%|█████     | 6/12 [00:17<00:18,  3.10s/it]"
     ]
    },
    {
     "name": "stdout",
     "output_type": "stream",
     "text": [
      "# (zbrain) wb neurons: 12372\n",
      "# total neurons: 12751\n"
     ]
    },
    {
     "name": "stderr",
     "output_type": "stream",
     "text": [
      "\r\n",
      " 58%|█████▊    | 7/12 [00:19<00:13,  2.64s/it]"
     ]
    },
    {
     "name": "stdout",
     "output_type": "stream",
     "text": [
      "# (zbrain) wb neurons: 29913\n",
      "# total neurons: 30807\n"
     ]
    },
    {
     "name": "stderr",
     "output_type": "stream",
     "text": [
      "\r\n",
      " 67%|██████▋   | 8/12 [00:21<00:10,  2.53s/it]"
     ]
    },
    {
     "name": "stdout",
     "output_type": "stream",
     "text": [
      "# (zbrain) wb neurons: 28889\n",
      "# total neurons: 30654\n"
     ]
    },
    {
     "name": "stderr",
     "output_type": "stream",
     "text": [
      "\r\n",
      " 75%|███████▌  | 9/12 [00:24<00:08,  2.74s/it]"
     ]
    },
    {
     "name": "stdout",
     "output_type": "stream",
     "text": [
      "# (zbrain) wb neurons: 45082\n",
      "# total neurons: 46174\n"
     ]
    },
    {
     "name": "stderr",
     "output_type": "stream",
     "text": [
      "\r\n",
      " 83%|████████▎ | 10/12 [00:30<00:07,  3.64s/it]"
     ]
    },
    {
     "name": "stdout",
     "output_type": "stream",
     "text": [
      "# (zbrain) wb neurons: 26353\n",
      "# total neurons: 26616\n"
     ]
    },
    {
     "name": "stderr",
     "output_type": "stream",
     "text": [
      "\r\n",
      " 92%|█████████▏| 11/12 [00:45<00:07,  7.05s/it]"
     ]
    },
    {
     "name": "stdout",
     "output_type": "stream",
     "text": [
      "# (zbrain) wb neurons: 42305\n",
      "# total neurons: 43174\n"
     ]
    },
    {
     "name": "stderr",
     "output_type": "stream",
     "text": [
      "100%|██████████| 12/12 [00:50<00:00,  4.22s/it]\n"
     ]
    }
   ],
   "source": [
    "for i_list in tqdm(range(n_ds)):\n",
    "    h5view = h5py.File(file_path + list_files[i_list], 'r') # memory map h5 files\n",
    "    all_keys = dict()\n",
    "    h5view.visititems(get_datasets)  # create mapping of datasets\n",
    "    \n",
    "#     all_keys  # view all keys\n",
    "#     h5view[all_keys['thresholdedspikes']]  # view ds of interest\n",
    "\n",
    "    # zebrafish coordinates coordinates to use (use zbrain space)\n",
    "    labels = h5view[all_keys['labels']][:, :].T\n",
    "    inds_wb = np.unique(scipy.sparse.find(labels[:, np.arange(294)])[0])\n",
    "    print(f'# (zbrain) wb neurons: {len(inds_wb)}')\n",
    "    print(f'# total neurons: {h5view[all_keys[\"zbraincoordinates\"]].shape[1]}')\n",
    "\n",
    "    spikes_data = h5view[all_keys['thresholdedspikes']][:, :]  # load into RAM\n",
    "    assert spikes_data.shape[1] == h5view[all_keys[\"zbraincoordinates\"]].shape[1]\n",
    "    spikes_data = spikes_data[:, inds_wb]  # get labelled neurons\n",
    "#     spikes_data.shape\n",
    "          \n",
    "    spike_file_name = list_files[i_list][:-3] + '__wb_spikes_only.npy'\n",
    "    np.save(arr=spikes_data, allow_pickle=True,\n",
    "            file=file_path + 'spike_only/' + spike_file_name)\n",
    "    h5view.close()\n",
    "    tmp = None\n",
    "    spikes_data = None"
   ]
  }
 ],
 "metadata": {
  "kernelspec": {
   "display_name": "Python 3",
   "language": "python",
   "name": "python3"
  },
  "language_info": {
   "codemirror_mode": {
    "name": "ipython",
    "version": 3
   },
   "file_extension": ".py",
   "mimetype": "text/x-python",
   "name": "python",
   "nbconvert_exporter": "python",
   "pygments_lexer": "ipython3",
   "version": "3.7.0"
  }
 },
 "nbformat": 4,
 "nbformat_minor": 2
}
